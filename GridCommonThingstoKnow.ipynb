{
 "cells": [
  {
   "cell_type": "markdown",
   "metadata": {},
   "source": [
    "what about ignore test train split when Grid search CV is?\n",
    "\n",
    "\n",
    "When performing hyperparameter tuning using GridSearchCV, it is not recommended to ignore the test-train split. The purpose of GridSearchCV is to systematically search for the best combination of hyperparameters by evaluating the model's performance on a validation set.\n",
    "\n",
    "The typical workflow for hyperparameter tuning involves splitting the available data into three sets: a training set, a validation set, and a test set. The training set is used to train the model, the validation set is used for hyperparameter tuning, and the test set is used for final evaluation to assess the model's generalization performance.\n",
    "\n",
    "During the hyperparameter tuning process with GridSearchCV, the algorithm evaluates different combinations of hyperparameters using cross-validation. Cross-validation further divides the training set into multiple subsets, allowing each subset to serve as a validation set in turns. The model's performance is then assessed using various evaluation metrics, such as accuracy or mean squared error, based on the validation scores.\n",
    "\n",
    "Ignoring the test-train split and using GridSearchCV alone without a separate test set can lead to biased and overly optimistic results. It is crucial to have a final evaluation on a separate test set to obtain an unbiased estimate of the model's performance on unseen data. This helps to assess the model's ability to generalize to new, unseen examples.\n",
    "\n",
    "Therefore, it is important to preserve the test-train split and allocate a separate test set for final evaluation, even when using GridSearchCV for hyperparameter tuning."
   ]
  }
 ],
 "metadata": {
  "kernelspec": {
   "display_name": "Python 3",
   "language": "python",
   "name": "python3"
  },
  "language_info": {
   "codemirror_mode": {
    "name": "ipython",
    "version": 3
   },
   "file_extension": ".py",
   "mimetype": "text/x-python",
   "name": "python",
   "nbconvert_exporter": "python",
   "pygments_lexer": "ipython3",
   "version": "3.7.4"
  }
 },
 "nbformat": 4,
 "nbformat_minor": 2
}
